{
 "cells": [
  {
   "cell_type": "markdown",
   "id": "4f124410-b34f-4d4a-9556-1252bafa43c3",
   "metadata": {},
   "source": [
    "# A/B Testing: Comparing Webpage Conversion Rates \n",
    "\n",
    "## Objective  \n",
    "\n",
    "We want to determine whether a new webpage design (Variant B) leads to a **higher conversion rate** than the current design (Variant A).  \n",
    "Because we don’t have real traffic data, we **simulate** visitor behaviour and then apply statistical tests to see if any observed difference is significant.\n",
    "\n",
    "### Key Terms  \n",
    "- **Conversion Rate (CR)** – fraction of visitors who complete the desired action (purchase, signup, etc.).  \n",
    "- **A/B Test** – experiment showing two variants to independent groups to compare performance.  \n",
    "- **Hypothesis Test** – formal method to decide whether an observed difference is due to chance.\n"
   ]
  },
  {
   "cell_type": "markdown",
   "id": "ce59456e-1ea8-4e97-87ce-107f0f126e1e",
   "metadata": {},
   "source": [
    "## Step 1: Import Libraries & Simulate Data\n",
    "\n",
    "We begin by importing essential Python libraries like `numpy`, `pandas`, `scipy`, and `statsmodels` for statistical calculations.  \n",
    "\n",
    "Then, we simulate visitor behavior using the binomial distribution for two webpage variants:  \n",
    "- **Variant A** (current version) with a true conversion rate of 10%  \n",
    "- **Variant B** (new version) with a slightly improved rate of 12%\n",
    "\n",
    "We assume 10,000 users visited each version. The number of users who convert (successes) is simulated based on these probabilities."
   ]
  },
  {
   "cell_type": "code",
   "execution_count": 1,
   "id": "aa2b6a48-6cea-4879-bd0d-8acabe2cd455",
   "metadata": {},
   "outputs": [],
   "source": [
    "# numpy & pandas for data manipulation\n",
    "# matplotlib for plotting results\n",
    "# statsmodels & scipy for statistical tests\n",
    "\n",
    "import numpy as np\n",
    "import pandas as pd\n",
    "import matplotlib.pyplot as plt\n",
    "from statsmodels.stats.proportion import proportions_ztest\n",
    "from scipy.stats import norm"
   ]
  },
  {
   "cell_type": "markdown",
   "id": "99ea8c65-4ec0-4d81-8a54-f93fc2ccfae6",
   "metadata": {},
   "source": [
    "## Step 2: Simulate Visitor Data  \n",
    "\n",
    "We assume 10 000 visitors see each variant.  \n",
    "- **Variant A** baseline CR = 10 %  \n",
    "- **Variant B** expected CR = 12 %  \n",
    "\n",
    "Using a **binomial distribution**, we simulate how many visitors convert (successes) under each variant.\n"
   ]
  },
  {
   "cell_type": "code",
   "execution_count": 2,
   "id": "a1013f89-6b58-4116-b027-5fe4be993ac2",
   "metadata": {},
   "outputs": [
    {
     "name": "stdout",
     "output_type": "stream",
     "text": [
      "Variant A conversions: 949\n",
      "Variant B conversions: 1243\n"
     ]
    }
   ],
   "source": [
    "# >>> Simulate conversions for each variant\n",
    "n_A, p_A = 10_000, 0.10   # visitors & true conversion prob for A\n",
    "n_B, p_B = 10_000, 0.12   # visitors & true conversion prob for B\n",
    "\n",
    "# Binomial draw: how many successes (conversions) occur?\n",
    "success_A = np.random.binomial(n_A, p_A)\n",
    "success_B = np.random.binomial(n_B, p_B)\n",
    "\n",
    "print(f\"Variant A conversions: {success_A}\")\n",
    "print(f\"Variant B conversions: {success_B}\")\n"
   ]
  },
  {
   "cell_type": "markdown",
   "id": "8eec6c11-6e39-45af-8148-163dc6156175",
   "metadata": {},
   "source": [
    "## Step 3: Calculate Conversion Rates and Confidence Intervals\n",
    "\n",
    "Here, we define a custom function `proportion_ci()` that calculates the **conversion rate** and its **95% confidence interval** for each variant.\n",
    "\n",
    "A confidence interval helps us understand the range in which the actual conversion rate likely falls. We then use this function to compute the conversion rate and CI for both Variant A and Variant B.\n",
    "\n",
    "Finally, the results are stored in a DataFrame for easier viewing and comparison.\n",
    "\n"
   ]
  },
  {
   "cell_type": "code",
   "execution_count": 3,
   "id": "0cf1f9ec-032c-4ac0-8519-bb9f5a3ede25",
   "metadata": {},
   "outputs": [
    {
     "data": {
      "text/html": [
       "<div>\n",
       "<style scoped>\n",
       "    .dataframe tbody tr th:only-of-type {\n",
       "        vertical-align: middle;\n",
       "    }\n",
       "\n",
       "    .dataframe tbody tr th {\n",
       "        vertical-align: top;\n",
       "    }\n",
       "\n",
       "    .dataframe thead th {\n",
       "        text-align: right;\n",
       "    }\n",
       "</style>\n",
       "<table border=\"1\" class=\"dataframe\">\n",
       "  <thead>\n",
       "    <tr style=\"text-align: right;\">\n",
       "      <th></th>\n",
       "      <th>Variant</th>\n",
       "      <th>Visitors</th>\n",
       "      <th>Conversions</th>\n",
       "      <th>CR (%)</th>\n",
       "      <th>CI Lower (95%)</th>\n",
       "      <th>CI Upper (95%)</th>\n",
       "    </tr>\n",
       "  </thead>\n",
       "  <tbody>\n",
       "    <tr>\n",
       "      <th>0</th>\n",
       "      <td>A</td>\n",
       "      <td>10000</td>\n",
       "      <td>949</td>\n",
       "      <td>9.49</td>\n",
       "      <td>8.915580</td>\n",
       "      <td>10.064420</td>\n",
       "    </tr>\n",
       "    <tr>\n",
       "      <th>1</th>\n",
       "      <td>B</td>\n",
       "      <td>10000</td>\n",
       "      <td>1243</td>\n",
       "      <td>12.43</td>\n",
       "      <td>11.783362</td>\n",
       "      <td>13.076638</td>\n",
       "    </tr>\n",
       "  </tbody>\n",
       "</table>\n",
       "</div>"
      ],
      "text/plain": [
       "  Variant  Visitors  Conversions  CR (%)  CI Lower (95%)  CI Upper (95%)\n",
       "0       A     10000          949    9.49        8.915580       10.064420\n",
       "1       B     10000         1243   12.43       11.783362       13.076638"
      ]
     },
     "execution_count": 3,
     "metadata": {},
     "output_type": "execute_result"
    }
   ],
   "source": [
    "# >>> Helper: compute 95 % CI for a proportion\n",
    "def proportion_ci(k: int, n: int, alpha: float = 0.05):\n",
    "    p_hat = k / n\n",
    "    z = norm.ppf(1 - alpha / 2)\n",
    "    se = np.sqrt(p_hat * (1 - p_hat) / n)   # standard error\n",
    "    half_width = z * se\n",
    "    return p_hat, p_hat - half_width, p_hat + half_width\n",
    "\n",
    "# Calculate CR & CI for each variant\n",
    "cr_A, ci_low_A, ci_high_A = proportion_ci(success_A, n_A)\n",
    "cr_B, ci_low_B, ci_high_B = proportion_ci(success_B, n_B)\n",
    "\n",
    "results = pd.DataFrame({\n",
    "    'Variant': ['A', 'B'],\n",
    "    'Visitors': [n_A, n_B],\n",
    "    'Conversions': [success_A, success_B],\n",
    "    'CR (%)': [cr_A*100, cr_B*100],\n",
    "    'CI Lower (95%)': [ci_low_A*100, ci_low_B*100],\n",
    "    'CI Upper (95%)': [ci_high_A*100, ci_high_B*100]\n",
    "})\n",
    "results"
   ]
  },
  {
   "cell_type": "markdown",
   "id": "a0a2782c-f411-4582-bbaa-f112d58120d6",
   "metadata": {},
   "source": [
    "## Step 3: Visualizing Conversion Rates with Confidence Intervals\n",
    "\n",
    "To compare the performance of both variants visually, we plot their conversion rates using a bar chart with **error bars** that show the 95% confidence intervals.\n",
    "\n",
    "This helps us quickly understand whether the difference between the two rates might be statistically significant.\n"
   ]
  },
  {
   "cell_type": "code",
   "execution_count": 4,
   "id": "0bba65c1-711a-4a15-b766-a54c5e124fc9",
   "metadata": {},
   "outputs": [
    {
     "data": {
      "image/png": "[encoded data removed]",
      "text/plain": [
       "<Figure size 600x400 with 1 Axes>"
      ]
     },
     "metadata": {},
     "output_type": "display_data"
    }
   ],
   "source": [
    "# >>> Plot CR with error bars\n",
    "plt.figure(figsize=(6,4))\n",
    "plt.bar(['A','B'], results['CR (%)'], yerr=[results['CR (%)']-results['CI Lower (95%)'],\n",
    "                                           results['CI Upper (95%)']-results['CR (%)']],\n",
    "        capsize=6)\n",
    "plt.ylabel('Conversion Rate (%)')\n",
    "plt.title('A/B Test: Conversion Rates with 95% CI')\n",
    "plt.ylim(0, results['CI Upper (95%)'].max() + 2)\n",
    "plt.show()\n"
   ]
  },
  {
   "cell_type": "markdown",
   "id": "2070873c-e23a-4a8f-931c-a47307632622",
   "metadata": {},
   "source": [
    "## Step 4: Hypothesis Testing Using Z-Test\n",
    "\n",
    "Now we perform a **two-proportion z-test** to statistically compare the conversion rates of both variants.\n",
    "\n",
    "### Hypotheses:\n",
    "- **Null Hypothesis (H₀)**: Variant B is not better than A (p_B ≤ p_A)\n",
    "- **Alternative Hypothesis (H₁)**: Variant B is better than A (p_B > p_A)\n",
    "\n",
    "We calculate the z-statistic and corresponding p-value.  \n",
    "If the p-value is less than 0.05, we reject the null hypothesis, meaning **Variant B is significantly better** than Variant A.\n"
   ]
  },
  {
   "cell_type": "code",
   "execution_count": 5,
   "id": "9d749bc9-e6f1-49c5-bfd9-b6a33c48ee98",
   "metadata": {},
   "outputs": [
    {
     "name": "stdout",
     "output_type": "stream",
     "text": [
      "Z‑statistic = -6.655, p‑value = 1.0000\n"
     ]
    }
   ],
   "source": [
    "# >>> Perform two‑sample proportions z‑test\n",
    "count = np.array([success_A, success_B])\n",
    "nobs  = np.array([n_A, n_B])\n",
    "\n",
    "stat, pval = proportions_ztest(count, nobs, alternative='larger')  # 'larger' tests B > A\n",
    "print(f\"Z‑statistic = {stat:.3f}, p‑value = {pval:.4f}\")"
   ]
  },
  {
   "cell_type": "markdown",
   "id": "6c66ec91-f005-4c54-a7ee-a66b8de4380d",
   "metadata": {},
   "source": [
    "## Final Summary & Conclusion\n",
    "\n",
    "- We simulated user behavior for two webpage designs using binomial distribution.\n",
    "- Conversion rates for each variant were calculated along with 95% confidence intervals.\n",
    "- A z-test was used to statistically compare the two variants.\n",
    "\n",
    "### 💡 Key Result:\n",
    "- If the p-value < 0.05, we conclude **Variant B performs significantly better than Variant A.**\n",
    "\n",
    "This project helped me understand how statistical techniques like A/B testing can be applied in real-world product or marketing experiments to make data-driven decisions.\n"
   ]
  },
  {
   "cell_type": "markdown",
   "id": "d0622413-4a04-4a8a-8557-d4568851142b",
   "metadata": {},
   "source": []
  }
 ],
 "metadata": {
  "kernelspec": {
   "display_name": "Python [conda env:base] *",
   "language": "python",
   "name": "conda-base-py"
  },
  "language_info": {
   "codemirror_mode": {
    "name": "ipython",
    "version": 3
   },
   "file_extension": ".py",
   "mimetype": "text/x-python",
   "name": "python",
   "nbconvert_exporter": "python",
   "pygments_lexer": "ipython3",
   "version": "3.12.7"
  }
 },
 "nbformat": 4,
 "nbformat_minor": 5
}
